{
 "cells": [
  {
   "cell_type": "markdown",
   "metadata": {},
   "source": [
    "# What is the True Normal Human Body Temperature? \n",
    "\n",
    "#### Background\n",
    "\n",
    "The mean normal body temperature was held to be 37$^{\\circ}$C or 98.6$^{\\circ}$F for more than 120 years since it was first conceptualized and reported by Carl Wunderlich in a famous 1868 book. But, is this value statistically correct?"
   ]
  },
  {
   "cell_type": "markdown",
   "metadata": {},
   "source": [
    "<h3>Exercises</h3>\n",
    "\n",
    "<p>In this exercise, you will analyze a dataset of human body temperatures and employ the concepts of hypothesis testing, confidence intervals, and statistical significance.</p>\n",
    "\n",
    "<p>Answer the following questions <b>in this notebook below and submit to your Github account</b>.</p> \n",
    "\n",
    "<ol>\n",
    "<li>  Is the distribution of body temperatures normal? \n",
    "    <ul>\n",
    "    <li> Although this is not a requirement for the Central Limit Theorem to hold (read the introduction on Wikipedia's page about the CLT carefully: https://en.wikipedia.org/wiki/Central_limit_theorem), it gives us some peace of mind that the population may also be normally distributed if we assume that this sample is representative of the population.\n",
    "    <li> Think about the way you're going to check for the normality of the distribution. Graphical methods are usually used first, but there are also other ways: https://en.wikipedia.org/wiki/Normality_test\n",
    "    </ul>\n",
    "<li>  Is the sample size large? Are the observations independent?\n",
    "    <ul>\n",
    "    <li> Remember that this is a condition for the Central Limit Theorem, and hence the statistical tests we are using, to apply.\n",
    "    </ul>\n",
    "<li>  Is the true population mean really 98.6 degrees F?\n",
    "    <ul>\n",
    "    <li> First, try a bootstrap hypothesis test.\n",
    "    <li> Now, let's try frequentist statistical testing. Would you use a one-sample or two-sample test? Why?\n",
    "    <li> In this situation, is it appropriate to use the $t$ or $z$ statistic? \n",
    "    <li> Now try using the other test. How is the result be different? Why?\n",
    "    </ul>\n",
    "<li>  Draw a small sample of size 10 from the data and repeat both frequentist tests. \n",
    "    <ul>\n",
    "    <li> Which one is the correct one to use? \n",
    "    <li> What do you notice? What does this tell you about the difference in application of the $t$ and $z$ statistic?\n",
    "    </ul>\n",
    "<li>  At what temperature should we consider someone's temperature to be \"abnormal\"?\n",
    "    <ul>\n",
    "    <li> As in the previous example, try calculating everything using the boostrap approach, as well as the frequentist approach.\n",
    "    <li> Start by computing the margin of error and confidence interval. When calculating the confidence interval, keep in mind that you should use the appropriate formula for one draw, and not N draws.\n",
    "    </ul>\n",
    "<li>  Is there a significant difference between males and females in normal temperature?\n",
    "    <ul>\n",
    "    <li> What testing approach did you use and why?\n",
    "    <li> Write a story with your conclusion in the context of the original problem.\n",
    "    </ul>\n",
    "</ol>\n",
    "\n",
    "You can include written notes in notebook cells using Markdown: \n",
    "   - In the control panel at the top, choose Cell > Cell Type > Markdown\n",
    "   - Markdown syntax: http://nestacms.com/docs/creating-content/markdown-cheat-sheet\n",
    "\n",
    "#### Resources\n",
    "\n",
    "+ Information and data sources: http://www.amstat.org/publications/jse/datasets/normtemp.txt, http://www.amstat.org/publications/jse/jse_data_archive.htm\n",
    "+ Markdown syntax: http://nestacms.com/docs/creating-content/markdown-cheat-sheet\n",
    "\n",
    "****"
   ]
  },
  {
   "cell_type": "code",
   "execution_count": 1,
   "metadata": {
    "collapsed": true
   },
   "outputs": [],
   "source": [
    "import pandas as pd\n",
    "import matplotlib.pyplot as plt\n",
    "import numpy as np\n",
    "import seaborn as sns\n",
    "\n",
    "df = pd.read_csv('data/human_body_temperature.csv')"
   ]
  },
  {
   "cell_type": "markdown",
   "metadata": {},
   "source": [
    "### Basic Exploration for missing values, data type errors, tidiness etc."
   ]
  },
  {
   "cell_type": "code",
   "execution_count": 2,
   "metadata": {
    "collapsed": true
   },
   "outputs": [
    {
     "data": {
      "text/html": [
       "<div>\n",
       "<style scoped>\n",
       "    .dataframe tbody tr th:only-of-type {\n",
       "        vertical-align: middle;\n",
       "    }\n",
       "\n",
       "    .dataframe tbody tr th {\n",
       "        vertical-align: top;\n",
       "    }\n",
       "\n",
       "    .dataframe thead th {\n",
       "        text-align: right;\n",
       "    }\n",
       "</style>\n",
       "<table border=\"1\" class=\"dataframe\">\n",
       "  <thead>\n",
       "    <tr style=\"text-align: right;\">\n",
       "      <th></th>\n",
       "      <th>temperature</th>\n",
       "      <th>gender</th>\n",
       "      <th>heart_rate</th>\n",
       "    </tr>\n",
       "  </thead>\n",
       "  <tbody>\n",
       "    <tr>\n",
       "      <th>0</th>\n",
       "      <td>99.3</td>\n",
       "      <td>F</td>\n",
       "      <td>68.0</td>\n",
       "    </tr>\n",
       "    <tr>\n",
       "      <th>1</th>\n",
       "      <td>98.4</td>\n",
       "      <td>F</td>\n",
       "      <td>81.0</td>\n",
       "    </tr>\n",
       "    <tr>\n",
       "      <th>2</th>\n",
       "      <td>97.8</td>\n",
       "      <td>M</td>\n",
       "      <td>73.0</td>\n",
       "    </tr>\n",
       "    <tr>\n",
       "      <th>3</th>\n",
       "      <td>99.2</td>\n",
       "      <td>F</td>\n",
       "      <td>66.0</td>\n",
       "    </tr>\n",
       "    <tr>\n",
       "      <th>4</th>\n",
       "      <td>98.0</td>\n",
       "      <td>F</td>\n",
       "      <td>73.0</td>\n",
       "    </tr>\n",
       "  </tbody>\n",
       "</table>\n",
       "</div>"
      ],
      "text/plain": [
       "   temperature gender  heart_rate\n",
       "0         99.3      F        68.0\n",
       "1         98.4      F        81.0\n",
       "2         97.8      M        73.0\n",
       "3         99.2      F        66.0\n",
       "4         98.0      F        73.0"
      ]
     },
     "execution_count": 2,
     "metadata": {},
     "output_type": "execute_result"
    }
   ],
   "source": [
    "df.head()"
   ]
  },
  {
   "cell_type": "code",
   "execution_count": 3,
   "metadata": {},
   "outputs": [
    {
     "name": "stdout",
     "output_type": "stream",
     "text": [
      "<class 'pandas.core.frame.DataFrame'>\n",
      "RangeIndex: 130 entries, 0 to 129\n",
      "Data columns (total 3 columns):\n",
      "temperature    130 non-null float64\n",
      "gender         130 non-null object\n",
      "heart_rate     130 non-null float64\n",
      "dtypes: float64(2), object(1)\n",
      "memory usage: 3.1+ KB\n"
     ]
    }
   ],
   "source": [
    "df.info()"
   ]
  },
  {
   "cell_type": "code",
   "execution_count": 4,
   "metadata": {},
   "outputs": [
    {
     "data": {
      "text/html": [
       "<div>\n",
       "<style scoped>\n",
       "    .dataframe tbody tr th:only-of-type {\n",
       "        vertical-align: middle;\n",
       "    }\n",
       "\n",
       "    .dataframe tbody tr th {\n",
       "        vertical-align: top;\n",
       "    }\n",
       "\n",
       "    .dataframe thead th {\n",
       "        text-align: right;\n",
       "    }\n",
       "</style>\n",
       "<table border=\"1\" class=\"dataframe\">\n",
       "  <thead>\n",
       "    <tr style=\"text-align: right;\">\n",
       "      <th></th>\n",
       "      <th>temperature</th>\n",
       "      <th>heart_rate</th>\n",
       "    </tr>\n",
       "  </thead>\n",
       "  <tbody>\n",
       "    <tr>\n",
       "      <th>count</th>\n",
       "      <td>130.000000</td>\n",
       "      <td>130.000000</td>\n",
       "    </tr>\n",
       "    <tr>\n",
       "      <th>mean</th>\n",
       "      <td>98.249231</td>\n",
       "      <td>73.761538</td>\n",
       "    </tr>\n",
       "    <tr>\n",
       "      <th>std</th>\n",
       "      <td>0.733183</td>\n",
       "      <td>7.062077</td>\n",
       "    </tr>\n",
       "    <tr>\n",
       "      <th>min</th>\n",
       "      <td>96.300000</td>\n",
       "      <td>57.000000</td>\n",
       "    </tr>\n",
       "    <tr>\n",
       "      <th>25%</th>\n",
       "      <td>97.800000</td>\n",
       "      <td>69.000000</td>\n",
       "    </tr>\n",
       "    <tr>\n",
       "      <th>50%</th>\n",
       "      <td>98.300000</td>\n",
       "      <td>74.000000</td>\n",
       "    </tr>\n",
       "    <tr>\n",
       "      <th>75%</th>\n",
       "      <td>98.700000</td>\n",
       "      <td>79.000000</td>\n",
       "    </tr>\n",
       "    <tr>\n",
       "      <th>max</th>\n",
       "      <td>100.800000</td>\n",
       "      <td>89.000000</td>\n",
       "    </tr>\n",
       "  </tbody>\n",
       "</table>\n",
       "</div>"
      ],
      "text/plain": [
       "       temperature  heart_rate\n",
       "count   130.000000  130.000000\n",
       "mean     98.249231   73.761538\n",
       "std       0.733183    7.062077\n",
       "min      96.300000   57.000000\n",
       "25%      97.800000   69.000000\n",
       "50%      98.300000   74.000000\n",
       "75%      98.700000   79.000000\n",
       "max     100.800000   89.000000"
      ]
     },
     "execution_count": 4,
     "metadata": {},
     "output_type": "execute_result"
    }
   ],
   "source": [
    "df.describe()"
   ]
  },
  {
   "cell_type": "markdown",
   "metadata": {},
   "source": [
    "### 1. Is the distribution of body temperatures normal?"
   ]
  },
  {
   "cell_type": "code",
   "execution_count": 5,
   "metadata": {},
   "outputs": [
    {
     "data": {
      "image/png": "[encoded data removed]",
      "text/plain": [
       "<Figure size 432x288 with 1 Axes>"
      ]
     },
     "metadata": {},
     "output_type": "display_data"
    }
   ],
   "source": [
    "sns.set()\n",
    "# Plotting histogram of temperature\n",
    "temp = df['temperature']\n",
    "_ = plt.hist(temp, bins=11, density=True, histtype='step') #Using the square root rule to approx. # of bins\n",
    "_ = plt.axvline(np.mean(temp), color='k', linestyle='--') #Plotting the mean as vertical line\n",
    "_ = plt.xlabel('Temperature (F)')\n",
    "_ = plt.ylabel('Percentage')\n",
    "_ = plt.title('Histogram of Temperature Distribution')"
   ]
  },
  {
   "cell_type": "code",
   "execution_count": 6,
   "metadata": {},
   "outputs": [],
   "source": [
    "#Create function for generating ecdf plots\n",
    "def ecdf(data):\n",
    "    n = len(data)\n",
    "    x = np.sort(data)\n",
    "    y = np.arange(1, n + 1) / n\n",
    "    return x, y"
   ]
  },
  {
   "cell_type": "code",
   "execution_count": 7,
   "metadata": {},
   "outputs": [
    {
     "data": {
      "image/png": "[encoded data removed]",
      "text/plain": [
       "<Figure size 432x288 with 1 Axes>"
      ]
     },
     "metadata": {},
     "output_type": "display_data"
    }
   ],
   "source": [
    "#Plotting ECDF for Temperature\n",
    "x_temp, y_temp = ecdf(temp)\n",
    "_ = plt.plot(x_temp, y_temp, '.', linestyle='none')\n",
    "_ = plt.xlabel('Temperature (F)')\n",
    "_ = plt.ylabel('ECDF')\n",
    "_ = plt.title('ECDF of Temperature Distribution')\n",
    "plt.margins(0.02)\n",
    "plt.show()"
   ]
  },
  {
   "cell_type": "markdown",
   "metadata": {},
   "source": [
    "##### Findings: \n",
    "- The histogram looks roughly symmetric about the mean and mimics a bell-shaped distribution. \n",
    "- The ECDF plot looks normal without a strong skew."
   ]
  },
  {
   "cell_type": "markdown",
   "metadata": {},
   "source": [
    "### 2. Is the sample size large? Are the observations independent?"
   ]
  },
  {
   "cell_type": "code",
   "execution_count": 8,
   "metadata": {},
   "outputs": [
    {
     "data": {
      "text/plain": [
       "count     130\n",
       "unique      2\n",
       "top         F\n",
       "freq       65\n",
       "Name: gender, dtype: object"
      ]
     },
     "execution_count": 8,
     "metadata": {},
     "output_type": "execute_result"
    }
   ],
   "source": [
    "df['gender'].describe()"
   ]
  },
  {
   "cell_type": "markdown",
   "metadata": {},
   "source": [
    "##### Answer: \n",
    "- The sample contains 65 observations for male and female each, which suffices the >=30 condition for the Central Limit Theorem.\n",
    "\n",
    "- The population is not explicitly stated. However, any human can exhibit the two characteristics listed: body temperature and heart rate, therefore concluding that the sample size is less than 10% of the population and is independent."
   ]
  },
  {
   "cell_type": "markdown",
   "metadata": {},
   "source": [
    "### 3. Is the true population mean really 98.6 degrees F?"
   ]
  },
  {
   "cell_type": "code",
   "execution_count": 9,
   "metadata": {},
   "outputs": [
    {
     "name": "stdout",
     "output_type": "stream",
     "text": [
      "Sample Mean:  98.24923076923078\n",
      "Sample Standard Deviation:  0.7303577789050377\n",
      "Assumed Population Mean:  98.6\n"
     ]
    }
   ],
   "source": [
    "mean_temp = np.mean(temp)\n",
    "std_temp = np.std(temp)\n",
    "mean_pop = 98.6\n",
    "\n",
    "print('Sample Mean: ', mean_temp)\n",
    "print('Sample Standard Deviation: ', std_temp)\n",
    "print('Assumed Population Mean: ', mean_pop)"
   ]
  },
  {
   "cell_type": "code",
   "execution_count": 10,
   "metadata": {},
   "outputs": [],
   "source": [
    "#Set seed\n",
    "np.random.seed(13)\n",
    "\n",
    "#Define function to generate bootstrap replicates\n",
    "def draw_bs_reps(data, func, size=1):\n",
    "    bs_replicates = np.empty(size)\n",
    "    for i in range(size):\n",
    "        bs_sample = np.random.choice(data, len(data))\n",
    "        bs_replicates[i] = func(bs_sample)\n",
    "    return bs_replicates    "
   ]
  },
  {
   "cell_type": "code",
   "execution_count": 11,
   "metadata": {},
   "outputs": [
    {
     "name": "stdout",
     "output_type": "stream",
     "text": [
      "95% confidence interval =  [98.12538462 98.37538462] Farenheit\n"
     ]
    },
    {
     "data": {
      "image/png": "[encoded data removed]",
      "text/plain": [
       "<Figure size 432x288 with 1 Axes>"
      ]
     },
     "metadata": {},
     "output_type": "display_data"
    }
   ],
   "source": [
    "#Constructing a 95% confidence interval\n",
    "np.random.seed(13)\n",
    "bs_replicates = draw_bs_reps(temp, np.mean, 10000)\n",
    "conf_int_temp = np.percentile(bs_replicates, [2.5, 97.5])\n",
    "\n",
    "print('95% confidence interval = ', conf_int_temp, 'Farenheit')\n",
    "\n",
    "#Plotting histogram of bootstrapped samples\n",
    "_ = plt.hist(bs_replicates, bins=50, density=True)\n",
    "_ = plt.xlabel('Mean temperature of sample (F)')\n",
    "_ = plt.ylabel('PDF')\n",
    "_ = plt.title('Distribution of boostrapped sample means of Temperature')\n",
    "plt.show()"
   ]
  },
  {
   "cell_type": "markdown",
   "metadata": {},
   "source": [
    "##### Findings: Assumed population mean of 98.6F is outside the 95% confidence interval of [98.1 , 98.4]\n",
    "\n",
    "\n",
    "##### Ready to conduct frequentist testing:\n",
    "- Using __One-Sample Bootstrap Test__ since we are only looking at one parameter as a whole\n",
    "- __Z-test__ is appropriate since the sample size is sufficiently large (n>30)\n",
    "- H0: The population mean is in fact 98.6F."
   ]
  },
  {
   "cell_type": "code",
   "execution_count": 12,
   "metadata": {},
   "outputs": [
    {
     "name": "stdout",
     "output_type": "stream",
     "text": [
      "Bootstrap Mean:  98.60008015384614\n",
      "Bootstrap Standard deviation:  0.06341517347014468\n"
     ]
    }
   ],
   "source": [
    "#Conduct one-sample bootstrap hypothesis test against the assumed population mean\n",
    "np.random.seed(13)\n",
    "transformed_temp = temp - mean_temp + mean_pop\n",
    "bs_replicates_t = draw_bs_reps(transformed_temp, np.mean, 10000)\n",
    "\n",
    "#p = np.sum(bs_replicates_t <= mean_temp) / 10000\n",
    "mean_1s = np.mean(bs_replicates_t)\n",
    "std_1s = np.std(bs_replicates_t)\n",
    "print('Bootstrap Mean: ', mean_1s)\n",
    "print('Bootstrap Standard deviation: ', std_1s)\n",
    "#print('p: ', p)"
   ]
  },
  {
   "cell_type": "code",
   "execution_count": 13,
   "metadata": {},
   "outputs": [
    {
     "name": "stdout",
     "output_type": "stream",
     "text": [
      "Z-stat in # of Stds (95%): -1.96\n",
      "Z-bound:  98.47578641384466\n",
      "Sample mean outside the z-bound? :  True\n"
     ]
    }
   ],
   "source": [
    "#Z-test\n",
    "print('Z-stat in # of Stds (95%): -1.96')\n",
    "z_temp = mean_1s - 1.96 * std_1s\n",
    "print('Z-bound: ', z_temp)\n",
    "print('Sample mean outside the z-bound? : ', (mean_temp < z_temp))"
   ]
  },
  {
   "cell_type": "markdown",
   "metadata": {},
   "source": [
    "##### Findings:\n",
    "- Reject null hypothesis that population mean is 98.6F based on __z-test__ with significance value of 95%."
   ]
  },
  {
   "cell_type": "code",
   "execution_count": 14,
   "metadata": {},
   "outputs": [
    {
     "name": "stdout",
     "output_type": "stream",
     "text": [
      "T-test in # of Stds (dof=129, 95%): -1.984\n",
      "T-bound:  98.47426444968137\n",
      "Sample mean outside t-bound? : True\n"
     ]
    }
   ],
   "source": [
    "#T-test\n",
    "print('T-test in # of Stds (dof=129, 95%): -1.984')\n",
    "t_temp = mean_1s - 1.984 * std_1s\n",
    "print('T-bound: ', t_temp)\n",
    "print('Sample mean outside t-bound? :', (mean_temp < t_temp))"
   ]
  },
  {
   "cell_type": "markdown",
   "metadata": {},
   "source": [
    "##### Findings:\n",
    "- Reject null hypothesis that population mean is 98.6F based on __t-test__ with significance value of 95%.\n",
    "- \\*A t-test adjusts for sample size, especially smaller ones"
   ]
  },
  {
   "cell_type": "markdown",
   "metadata": {},
   "source": [
    "### 4. Draw a small sample of size 10 from the data and repeat both frequentist tests."
   ]
  },
  {
   "cell_type": "code",
   "execution_count": 15,
   "metadata": {},
   "outputs": [
    {
     "name": "stdout",
     "output_type": "stream",
     "text": [
      "[100.   98.7  98.4  99.9  97.4  98.3  99.   97.8  96.4  98.8]\n",
      "Mean of small sample:  98.47\n",
      "Standard Deviation of small sample:  1.0363879582472957\n"
     ]
    }
   ],
   "source": [
    "#Generate sample of size 10 from data\n",
    "np.random.seed(13)\n",
    "sample_temp = np.random.choice(temp, size=10, replace=False) \n",
    "\n",
    "mean_small_sample = np.mean(sample_temp)\n",
    "std_small_sample = np.std(sample_temp)\n",
    "print(sample_temp)\n",
    "print('Mean of small sample: ', mean_small_sample)\n",
    "print('Standard Deviation of small sample: ', std_small_sample)"
   ]
  },
  {
   "cell_type": "code",
   "execution_count": 16,
   "metadata": {},
   "outputs": [
    {
     "name": "stdout",
     "output_type": "stream",
     "text": [
      "Small Sample Mean:  98.599088\n",
      "Small Sample Standard deviation:  0.32737380508525793\n"
     ]
    },
    {
     "data": {
      "image/png": "[encoded data removed]",
      "text/plain": [
       "<Figure size 432x288 with 1 Axes>"
      ]
     },
     "metadata": {},
     "output_type": "display_data"
    }
   ],
   "source": [
    "#Perform frequentist test on small sample\n",
    "np.random.seed(13)\n",
    "trans_reps_small = sample_temp - np.mean(sample_temp) + mean_pop\n",
    "bs_replicates_small = draw_bs_reps(trans_reps_small, np.mean, 10000)\n",
    "\n",
    "mean_small_temp = np.mean(bs_replicates_small)\n",
    "std_small_temp = np.std(bs_replicates_small)\n",
    "\n",
    "print('Small Sample Mean: ', mean_small_temp)\n",
    "print('Small Sample Standard deviation: ', std_small_temp)\n",
    "\n",
    "_ = plt.hist(bs_replicates_small, bins=50, density=True)\n",
    "_ = plt.xlabel('Temperature (F)')\n",
    "_ = plt.ylabel('PDF')\n",
    "plt.show()"
   ]
  },
  {
   "cell_type": "code",
   "execution_count": 17,
   "metadata": {},
   "outputs": [
    {
     "name": "stdout",
     "output_type": "stream",
     "text": [
      "T-test in # of Stds (dof=9, 95%): -2.262\n",
      "T-bound:  97.85856845289715\n",
      "Sample mean outside t-bound? : False\n"
     ]
    }
   ],
   "source": [
    "#T-test is more valid with sample size n<30\n",
    "print('T-test in # of Stds (dof=9, 95%): -2.262')\n",
    "t_small_temp = mean_small_temp - 2.262 * std_small_temp\n",
    "print('T-bound: ', t_small_temp)\n",
    "print('Sample mean outside t-bound? :', (mean_small_sample < t_small_temp))"
   ]
  },
  {
   "cell_type": "code",
   "execution_count": 18,
   "metadata": {},
   "outputs": [
    {
     "name": "stdout",
     "output_type": "stream",
     "text": [
      "Z-stat in # of Stds (95%): -1.96\n",
      "Z-bound:  97.9574353420329\n",
      "Sample mean outside the z-bound? :  False\n"
     ]
    }
   ],
   "source": [
    "#Z-test\n",
    "print('Z-stat in # of Stds (95%): -1.96')\n",
    "z_small_temp = mean_small_temp - 1.96 * std_small_temp\n",
    "print('Z-bound: ', z_small_temp)\n",
    "print('Sample mean outside the z-bound? : ', (mean_small_sample < z_small_temp))"
   ]
  },
  {
   "cell_type": "markdown",
   "metadata": {},
   "source": [
    "##### Findings:\n",
    "- T-test would be more accurate in this case since it accounts for sample size\n",
    "- Cannot reject null hypothesis based on either test"
   ]
  },
  {
   "cell_type": "markdown",
   "metadata": {},
   "source": [
    "### 5. At what temperature should we consider someone's temperature to be \"abnormal\"?"
   ]
  },
  {
   "cell_type": "code",
   "execution_count": 19,
   "metadata": {},
   "outputs": [
    {
     "name": "stdout",
     "output_type": "stream",
     "text": [
      "95% confidence interval =  [98.47615385 98.72615385] Farenheit\n",
      "Outside these bounds could be considered 'abnormal'\n"
     ]
    },
    {
     "data": {
      "image/png": "[encoded data removed]",
      "text/plain": [
       "<Figure size 432x288 with 1 Axes>"
      ]
     },
     "metadata": {},
     "output_type": "display_data"
    }
   ],
   "source": [
    "#Constructing a 95% confidence interval\n",
    "np.random.seed(13)\n",
    "bs_replicates = draw_bs_reps(transformed_temp, np.mean, 10000)\n",
    "conf_int_temp = np.percentile(bs_replicates, [2.5, 97.5])\n",
    "\n",
    "print('95% confidence interval = ', conf_int_temp, 'Farenheit')\n",
    "print('Outside these bounds could be considered \\'abnormal\\'')\n",
    "\n",
    "#Plotting histogram of bootstrapped samples\n",
    "_ = plt.hist(bs_replicates, bins=50, density=True)\n",
    "_ = plt.xlabel('Mean temperature of sample (F)')\n",
    "_ = plt.ylabel('PDF')\n",
    "_ = plt.title('Distribution of boostrapped sample means of Temperature')\n",
    "plt.show()"
   ]
  },
  {
   "cell_type": "markdown",
   "metadata": {},
   "source": [
    "### Findings:\n",
    "- A body temperature of lower than 98.48 F or more higher than 98.73 F could be considered 'abnormal'."
   ]
  },
  {
   "cell_type": "markdown",
   "metadata": {},
   "source": [
    "### 6. Is there a significant difference between males and females in normal temperature?"
   ]
  },
  {
   "cell_type": "code",
   "execution_count": 20,
   "metadata": {},
   "outputs": [
    {
     "data": {
      "image/png": "[encoded data removed]",
      "text/plain": [
       "<Figure size 432x288 with 1 Axes>"
      ]
     },
     "metadata": {},
     "output_type": "display_data"
    }
   ],
   "source": [
    "#Construct swarm plot for some EDA\n",
    "sns.swarmplot(x='gender', y='temperature', data=df)\n",
    "_ = plt.xticks(range(2), 'female male'.split())\n",
    "plt.show()"
   ]
  },
  {
   "cell_type": "markdown",
   "metadata": {},
   "source": [
    "##### Findings:\n",
    "- The two genders show similar means.\n",
    "- Male temps look more spread out, though female temps have more outliers."
   ]
  },
  {
   "cell_type": "code",
   "execution_count": 21,
   "metadata": {},
   "outputs": [
    {
     "name": "stdout",
     "output_type": "stream",
     "text": [
      "Mean of male temperature:  98.1046153846154\n",
      "Mean of female temperature:  98.39384615384613\n"
     ]
    }
   ],
   "source": [
    "male_temp = df[df['gender']=='M']['temperature']\n",
    "female_temp = df[df['gender']=='F']['temperature']\n",
    "print('Mean of male temperature: ', np.mean(male_temp))\n",
    "print('Mean of female temperature: ', np.mean(female_temp))"
   ]
  },
  {
   "cell_type": "code",
   "execution_count": 22,
   "metadata": {},
   "outputs": [
    {
     "data": {
      "image/png": "[encoded data removed]",
      "text/plain": [
       "<Figure size 432x288 with 1 Axes>"
      ]
     },
     "metadata": {},
     "output_type": "display_data"
    }
   ],
   "source": [
    "#Construct ECDF on both genders\n",
    "x_male, y_male = ecdf(male_temp)\n",
    "x_female, y_female = ecdf(female_temp)\n",
    "_ = plt.plot(x_male, y_male, '.', linestyle='none')\n",
    "_ = plt.plot(x_female, y_female, '.', linestyle='none')\n",
    "_ = plt.xlabel('Temperature (F)')\n",
    "_ = plt.ylabel('ECDF')\n",
    "_ = plt.legend(['Male', 'Female'], loc='lower right')\n",
    "plt.show()"
   ]
  },
  {
   "cell_type": "markdown",
   "metadata": {},
   "source": [
    "##### Findings: Looks like there is some difference between each of the gender's distributions based on ECDF."
   ]
  },
  {
   "cell_type": "code",
   "execution_count": 23,
   "metadata": {},
   "outputs": [],
   "source": [
    "np.random.seed(13)\n",
    "def draw_perm_sample(data1, data2):\n",
    "    data = np.concatenate((data1, data2))\n",
    "    permuted_data = np.random.permutation(data)\n",
    "    perm_sample_1 = permuted_data[:len(data1)]\n",
    "    perm_sample_2 = permuted_data[len(data1):]\n",
    "    return perm_sample_1, perm_sample_2"
   ]
  },
  {
   "cell_type": "code",
   "execution_count": 24,
   "metadata": {},
   "outputs": [
    {
     "data": {
      "image/png": "[encoded data removed]",
      "text/plain": [
       "<Figure size 432x288 with 1 Axes>"
      ]
     },
     "metadata": {},
     "output_type": "display_data"
    }
   ],
   "source": [
    "#Plotting ECDF of permutation samples on top of the two gender ECDFs\n",
    "np.random.seed(13)\n",
    "for i in range(50):\n",
    "    perm_sample_1, perm_sample_2 = draw_perm_sample(male_temp, female_temp)\n",
    "    \n",
    "    x_1, y_1 = ecdf(perm_sample_1)\n",
    "    x_2, y_2 = ecdf(perm_sample_2)\n",
    "    \n",
    "    _ = plt.plot(x_1, y_1, '.', linestyle='none', color='blue', alpha=0.02)\n",
    "    _ = plt.plot(x_2, y_2, '.', linestyle='none', color='red', alpha=0.02)\n",
    "    \n",
    "x_1, y_1 = ecdf(male_temp)\n",
    "x_2, y_2 = ecdf(female_temp)\n",
    "_ = plt.plot(x_1, y_1, marker='.', linestyle='none', color='blue', label='Male')\n",
    "_ = plt.plot(x_2, y_2, marker='.', linestyle='none', color='red', label='Female')\n",
    "_ = plt.title('ECDFs of Male/Female Compared to Permutation Samples')\n",
    "_ = plt.xlabel('Temperature (F)')\n",
    "_ = plt.ylabel('ECDF')\n",
    "plt.show()"
   ]
  },
  {
   "cell_type": "markdown",
   "metadata": {},
   "source": [
    "##### Findings: \n",
    "- Looks to be some overlap between permutation samples and the two individual genders\n",
    "- Not a significant difference between the two sexes"
   ]
  },
  {
   "cell_type": "code",
   "execution_count": 25,
   "metadata": {},
   "outputs": [],
   "source": [
    "np.random.seed(13)\n",
    "def diff_of_means(data1, data2):\n",
    "    return np.mean(data1) - np.mean(data2)\n",
    "\n",
    "def draw_perm_reps(data1, data2, func, size=1):\n",
    "    perm_replicates = np.empty(size)\n",
    "    \n",
    "    for i in range(size):\n",
    "        perm_1, perm_2 = draw_perm_sample(data1, data2)\n",
    "        perm_replicates[i] = func(perm_1, perm_2)\n",
    "    \n",
    "    return perm_replicates"
   ]
  },
  {
   "cell_type": "markdown",
   "metadata": {},
   "source": [
    "##### H0: The two genders have the same normal temperature"
   ]
  },
  {
   "cell_type": "code",
   "execution_count": 26,
   "metadata": {},
   "outputs": [
    {
     "name": "stdout",
     "output_type": "stream",
     "text": [
      "p:  0.0118\n"
     ]
    }
   ],
   "source": [
    "#Calculate a p-value based on permuation testing of the two genders\n",
    "np.random.seed(13)\n",
    "emp_mean_diff = diff_of_means(female_temp, male_temp)\n",
    "\n",
    "perm_replicates = draw_perm_reps(female_temp, male_temp, diff_of_means, 10000)\n",
    "\n",
    "p = np.sum(perm_replicates >= emp_mean_diff) / len(perm_replicates)\n",
    "print('p: ', p)"
   ]
  },
  {
   "cell_type": "markdown",
   "metadata": {},
   "source": [
    "##### Findings: The p-value for difference in means would:\n",
    "- reject the null hypothesis with alpha=95%\n",
    "- fail to reject the null with alpha=99%"
   ]
  },
  {
   "cell_type": "markdown",
   "metadata": {},
   "source": [
    "#### \\*\\*Conclusions: (Assuming a significance level of 95%)\n",
    "\n",
    "- The average normal temperature of the human body based on the sample seems to be a tad lower than the proposed 98.6 F. \n",
    "- Males and females have the same normal temperature"
   ]
  },
  {
   "cell_type": "markdown",
   "metadata": {},
   "source": [
    "### Extra: Is there strong correlation between body temperature and heart rate?"
   ]
  },
  {
   "cell_type": "code",
   "execution_count": 27,
   "metadata": {},
   "outputs": [
    {
     "data": {
      "image/png": "[encoded data removed]",
      "text/plain": [
       "<Figure size 432x288 with 1 Axes>"
      ]
     },
     "metadata": {},
     "output_type": "display_data"
    }
   ],
   "source": [
    "heart_rate = df['heart_rate']\n",
    "_ = plt.plot(temp, heart_rate, '.', linestyle='none')\n",
    "_ = plt.xlabel('Temperature(F)')\n",
    "_ = plt.ylabel('Heart rate(BPM)')\n",
    "plt.show()"
   ]
  },
  {
   "cell_type": "code",
   "execution_count": 28,
   "metadata": {},
   "outputs": [],
   "source": [
    "def pearson_r(x, y):\n",
    "    corr_mat = np.corrcoef(x, y)\n",
    "    return corr_mat[0][1]"
   ]
  },
  {
   "cell_type": "code",
   "execution_count": 29,
   "metadata": {},
   "outputs": [
    {
     "name": "stdout",
     "output_type": "stream",
     "text": [
      "p:  0.0019\n"
     ]
    }
   ],
   "source": [
    "#Testing independence/correlation with permutation test\n",
    "np.random.seed(13)\n",
    "r_obs = pearson_r(temp, heart_rate)\n",
    "\n",
    "perm_replicates = np.empty(10000)\n",
    "\n",
    "for i in range(10000):\n",
    "    permuted_temp = np.random.permutation(temp)\n",
    "    perm_replicates[i] = pearson_r(permuted_temp, heart_rate)\n",
    "    \n",
    "p = np.sum(perm_replicates >= r_obs) / 10000\n",
    "print('p: ', p)"
   ]
  },
  {
   "cell_type": "markdown",
   "metadata": {},
   "source": [
    "##### Findings:\n",
    "- There is sufficient correlation between body temperature and heart rate"
   ]
  }
 ],
 "metadata": {
  "kernelspec": {
   "display_name": "Python 3",
   "language": "python",
   "name": "python3"
  },
  "language_info": {
   "codemirror_mode": {
    "name": "ipython",
    "version": 3
   },
   "file_extension": ".py",
   "mimetype": "text/x-python",
   "name": "python",
   "nbconvert_exporter": "python",
   "pygments_lexer": "ipython3",
   "version": "3.7.3"
  }
 },
 "nbformat": 4,
 "nbformat_minor": 2
}
